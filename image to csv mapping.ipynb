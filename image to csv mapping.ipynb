{
 "cells": [
  {
   "cell_type": "code",
   "execution_count": 2,
   "metadata": {},
   "outputs": [],
   "source": [
    "import os\n",
    "import cv2\n",
    "import random\n",
    "import matplotlib.pyplot as plt\n",
    "import numpy as np\n",
    "import pandas as pd"
   ]
  },
  {
   "cell_type": "code",
   "execution_count": 3,
   "metadata": {},
   "outputs": [],
   "source": [
    "rootdir = os.getcwd()\n",
    "\n",
    "datadir = os.path.join( rootdir, \"Data\")\n",
    "newdatadir = os.path.join( rootdir, \"Clean Data\")\n",
    "newdatafile = os.path.join( newdatadir, \"data.csv\")\n",
    "\n",
    "os.chdir(datadir)\n",
    "\n",
    "assert not os.path.exists(newdatafile) # File already exists. You risk appending things to it.\n",
    "\n",
    "if not os.path.exists(newdatadir):\n",
    "    os.makedirs(newdatadir)"
   ]
  },
  {
   "cell_type": "code",
   "execution_count": 4,
   "metadata": {},
   "outputs": [],
   "source": [
    "df = {\"path\": [], \"label\": []}"
   ]
  },
  {
   "cell_type": "code",
   "execution_count": 5,
   "metadata": {
    "scrolled": true
   },
   "outputs": [],
   "source": [
    "subdirs = os.listdir()\n",
    "\n",
    "i=0\n",
    "for subdir in subdirs:\n",
    "    \n",
    "    os.chdir(datadir)\n",
    "    \n",
    "    if os.path.isdir(subdir):\n",
    "        \n",
    "        newcwd = os.path.join( datadir, subdir)\n",
    "        os.chdir(newcwd)\n",
    "        \n",
    "        for pic in os.listdir():\n",
    "            if random.random() < 1.1:\n",
    "                i+=1\n",
    "                \n",
    "                picpath = os.path.join(os.getcwd(), pic)\n",
    "                df[\"path\"].append(picpath)\n",
    "                df[\"label\"].append(subdir)\n",
    "                \n",
    "os.chdir(datadir)"
   ]
  },
  {
   "cell_type": "code",
   "execution_count": null,
   "metadata": {},
   "outputs": [],
   "source": [
    "print(datadir)\n",
    "print(newdatadir)\n",
    "print(os.getcwd())"
   ]
  },
  {
   "cell_type": "code",
   "execution_count": 7,
   "metadata": {},
   "outputs": [],
   "source": [
    "df_ = pd.DataFrame.from_dict(df)"
   ]
  },
  {
   "cell_type": "code",
   "execution_count": 8,
   "metadata": {},
   "outputs": [
    {
     "data": {
      "text/html": [
       "<div>\n",
       "<style scoped>\n",
       "    .dataframe tbody tr th:only-of-type {\n",
       "        vertical-align: middle;\n",
       "    }\n",
       "\n",
       "    .dataframe tbody tr th {\n",
       "        vertical-align: top;\n",
       "    }\n",
       "\n",
       "    .dataframe thead th {\n",
       "        text-align: right;\n",
       "    }\n",
       "</style>\n",
       "<table border=\"1\" class=\"dataframe\">\n",
       "  <thead>\n",
       "    <tr style=\"text-align: right;\">\n",
       "      <th></th>\n",
       "      <th>path</th>\n",
       "      <th>label</th>\n",
       "    </tr>\n",
       "  </thead>\n",
       "  <tbody>\n",
       "    <tr>\n",
       "      <th>0</th>\n",
       "      <td>D:\\ML\\Project\\Sign Language\\A2E-Model\\Data\\A\\A...</td>\n",
       "      <td>A</td>\n",
       "    </tr>\n",
       "    <tr>\n",
       "      <th>1</th>\n",
       "      <td>D:\\ML\\Project\\Sign Language\\A2E-Model\\Data\\A\\A...</td>\n",
       "      <td>A</td>\n",
       "    </tr>\n",
       "    <tr>\n",
       "      <th>2</th>\n",
       "      <td>D:\\ML\\Project\\Sign Language\\A2E-Model\\Data\\A\\A...</td>\n",
       "      <td>A</td>\n",
       "    </tr>\n",
       "    <tr>\n",
       "      <th>3</th>\n",
       "      <td>D:\\ML\\Project\\Sign Language\\A2E-Model\\Data\\A\\A...</td>\n",
       "      <td>A</td>\n",
       "    </tr>\n",
       "    <tr>\n",
       "      <th>4</th>\n",
       "      <td>D:\\ML\\Project\\Sign Language\\A2E-Model\\Data\\A\\A...</td>\n",
       "      <td>A</td>\n",
       "    </tr>\n",
       "    <tr>\n",
       "      <th>...</th>\n",
       "      <td>...</td>\n",
       "      <td>...</td>\n",
       "    </tr>\n",
       "    <tr>\n",
       "      <th>1387</th>\n",
       "      <td>D:\\ML\\Project\\Sign Language\\A2E-Model\\Data\\Z\\Z...</td>\n",
       "      <td>Z</td>\n",
       "    </tr>\n",
       "    <tr>\n",
       "      <th>1388</th>\n",
       "      <td>D:\\ML\\Project\\Sign Language\\A2E-Model\\Data\\Z\\Z...</td>\n",
       "      <td>Z</td>\n",
       "    </tr>\n",
       "    <tr>\n",
       "      <th>1389</th>\n",
       "      <td>D:\\ML\\Project\\Sign Language\\A2E-Model\\Data\\Z\\Z...</td>\n",
       "      <td>Z</td>\n",
       "    </tr>\n",
       "    <tr>\n",
       "      <th>1390</th>\n",
       "      <td>D:\\ML\\Project\\Sign Language\\A2E-Model\\Data\\Z\\Z...</td>\n",
       "      <td>Z</td>\n",
       "    </tr>\n",
       "    <tr>\n",
       "      <th>1391</th>\n",
       "      <td>D:\\ML\\Project\\Sign Language\\A2E-Model\\Data\\Z\\Z...</td>\n",
       "      <td>Z</td>\n",
       "    </tr>\n",
       "  </tbody>\n",
       "</table>\n",
       "<p>1392 rows × 2 columns</p>\n",
       "</div>"
      ],
      "text/plain": [
       "                                                   path label\n",
       "0     D:\\ML\\Project\\Sign Language\\A2E-Model\\Data\\A\\A...     A\n",
       "1     D:\\ML\\Project\\Sign Language\\A2E-Model\\Data\\A\\A...     A\n",
       "2     D:\\ML\\Project\\Sign Language\\A2E-Model\\Data\\A\\A...     A\n",
       "3     D:\\ML\\Project\\Sign Language\\A2E-Model\\Data\\A\\A...     A\n",
       "4     D:\\ML\\Project\\Sign Language\\A2E-Model\\Data\\A\\A...     A\n",
       "...                                                 ...   ...\n",
       "1387  D:\\ML\\Project\\Sign Language\\A2E-Model\\Data\\Z\\Z...     Z\n",
       "1388  D:\\ML\\Project\\Sign Language\\A2E-Model\\Data\\Z\\Z...     Z\n",
       "1389  D:\\ML\\Project\\Sign Language\\A2E-Model\\Data\\Z\\Z...     Z\n",
       "1390  D:\\ML\\Project\\Sign Language\\A2E-Model\\Data\\Z\\Z...     Z\n",
       "1391  D:\\ML\\Project\\Sign Language\\A2E-Model\\Data\\Z\\Z...     Z\n",
       "\n",
       "[1392 rows x 2 columns]"
      ]
     },
     "execution_count": 8,
     "metadata": {},
     "output_type": "execute_result"
    }
   ],
   "source": [
    "df_"
   ]
  },
  {
   "cell_type": "code",
   "execution_count": 9,
   "metadata": {},
   "outputs": [],
   "source": [
    "df_.to_csv(newdatafile, index= False)"
   ]
  },
  {
   "cell_type": "code",
   "execution_count": null,
   "metadata": {},
   "outputs": [],
   "source": []
  }
 ],
 "metadata": {
  "interpreter": {
   "hash": "fe44fef87f92f48a3a32707d0df204585f471652bc0ce87358a3ce712bc24db0"
  },
  "kernelspec": {
   "display_name": "Python 3.9.7 64-bit",
   "name": "python3"
  },
  "language_info": {
   "codemirror_mode": {
    "name": "ipython",
    "version": 3
   },
   "file_extension": ".py",
   "mimetype": "text/x-python",
   "name": "python",
   "nbconvert_exporter": "python",
   "pygments_lexer": "ipython3",
   "version": "3.9.7"
  }
 },
 "nbformat": 4,
 "nbformat_minor": 4
}
