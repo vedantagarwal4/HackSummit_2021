{
 "cells": [
  {
   "cell_type": "code",
   "execution_count": 1,
   "metadata": {},
   "outputs": [
    {
     "data": {
      "text/plain": [
       "'\\nhttps://github.com/vedantagarwal4\\n'"
      ]
     },
     "execution_count": 1,
     "metadata": {},
     "output_type": "execute_result"
    }
   ],
   "source": [
    "'''\n",
    "https://github.com/vedantagarwal4\n",
    "'''"
   ]
  },
  {
   "cell_type": "code",
   "execution_count": 21,
   "metadata": {},
   "outputs": [],
   "source": [
    "import pandas as pd\n",
    "import matplotlib.pyplot as plt\n",
    "import os\n",
    "import numpy as np\n",
    "import tensorflow as tf\n",
    "seed = 1"
   ]
  },
  {
   "cell_type": "code",
   "execution_count": 22,
   "metadata": {},
   "outputs": [],
   "source": [
    "datafile = os.path.join( os.getcwd(), \"Clean Data\")\n",
    "datafile = os.path.join( datafile, \"data.csv\")\n",
    "\n",
    "df = pd.read_csv(datafile)"
   ]
  },
  {
   "cell_type": "code",
   "execution_count": 23,
   "metadata": {},
   "outputs": [
    {
     "data": {
      "text/plain": [
       "((1392, 2), 26)"
      ]
     },
     "execution_count": 23,
     "metadata": {},
     "output_type": "execute_result"
    }
   ],
   "source": [
    "df.shape, df.label.nunique()"
   ]
  },
  {
   "cell_type": "code",
   "execution_count": 24,
   "metadata": {},
   "outputs": [
    {
     "data": {
      "text/plain": [
       "((1114, 2), (138, 2), (140, 2))"
      ]
     },
     "execution_count": 24,
     "metadata": {},
     "output_type": "execute_result"
    }
   ],
   "source": [
    "# TRAIN-VAL-TEST\n",
    "from sklearn.model_selection import train_test_split\n",
    "\n",
    "train, test = train_test_split(df, test_size=0.1, stratify=df.label)\n",
    "train, validate = train_test_split(train, test_size=0.11, stratify=train.label)\n",
    "\n",
    "train.shape, validate.shape, test.shape"
   ]
  },
  {
   "cell_type": "code",
   "execution_count": 25,
   "metadata": {},
   "outputs": [
    {
     "data": {
      "text/plain": [
       "<matplotlib.axes._subplots.AxesSubplot at 0x2c7c346bf10>"
      ]
     },
     "execution_count": 25,
     "metadata": {},
     "output_type": "execute_result"
    },
    {
     "data": {
      "image/png": "[encoded data removed]",
      "text/plain": [
       "<Figure size 432x288 with 1 Axes>"
      ]
     },
     "metadata": {
      "needs_background": "light"
     },
     "output_type": "display_data"
    }
   ],
   "source": [
    "labels = sorted(list(train.label.unique()))\n",
    "\n",
    "import seaborn as sns\n",
    "sns.countplot(x='label',data=train, order=labels)"
   ]
  },
  {
   "cell_type": "code",
   "execution_count": 26,
   "metadata": {},
   "outputs": [
    {
     "data": {
      "text/plain": [
       "<matplotlib.axes._subplots.AxesSubplot at 0x2c7c44fdf70>"
      ]
     },
     "execution_count": 26,
     "metadata": {},
     "output_type": "execute_result"
    },
    {
     "data": {
      "image/png": "[encoded data removed]",
      "text/plain": [
       "<Figure size 432x288 with 1 Axes>"
      ]
     },
     "metadata": {
      "needs_background": "light"
     },
     "output_type": "display_data"
    }
   ],
   "source": [
    "sns.countplot(x='label', data=validate, order=labels)"
   ]
  },
  {
   "cell_type": "code",
   "execution_count": 27,
   "metadata": {},
   "outputs": [
    {
     "data": {
      "text/plain": [
       "<matplotlib.axes._subplots.AxesSubplot at 0x2c7c45b1c40>"
      ]
     },
     "execution_count": 27,
     "metadata": {},
     "output_type": "execute_result"
    },
    {
     "data": {
      "image/png": "[encoded data removed]",
      "text/plain": [
       "<Figure size 432x288 with 1 Axes>"
      ]
     },
     "metadata": {
      "needs_background": "light"
     },
     "output_type": "display_data"
    }
   ],
   "source": [
    "sns.countplot(x='label', data=test, order=labels)"
   ]
  },
  {
   "cell_type": "code",
   "execution_count": 28,
   "metadata": {},
   "outputs": [],
   "source": [
    "from tensorflow.keras.preprocessing.image import ImageDataGenerator"
   ]
  },
  {
   "cell_type": "code",
   "execution_count": 29,
   "metadata": {
    "scrolled": true
   },
   "outputs": [
    {
     "name": "stdout",
     "output_type": "stream",
     "text": [
      "Found 1114 validated image filenames belonging to 26 classes.\n",
      "Found 138 validated image filenames belonging to 26 classes.\n",
      "Found 140 validated image filenames belonging to 26 classes.\n"
     ]
    }
   ],
   "source": [
    "#AUGMENTATION\n",
    "\n",
    "batch_size=16\n",
    "target_size=(100, 100)\n",
    "color_mode=\"rgb\"\n",
    "\n",
    "train_datagen = ImageDataGenerator(\n",
    "        rescale=1./255,\n",
    "        zoom_range=0.1,\n",
    "        horizontal_flip=True,\n",
    "        rotation_range=10,\n",
    "        width_shift_range = 0.1,\n",
    "        height_shift_range = 0.1,\n",
    "        brightness_range = (0.5,1)\n",
    ")\n",
    "\n",
    "train_generator = train_datagen.flow_from_dataframe(\n",
    "    dataframe=train,\n",
    "    directory=None,\n",
    "    x_col=\"path\",\n",
    "    y_col=\"label\",\n",
    "    target_size=target_size,\n",
    "    color_mode=color_mode,\n",
    "    class_mode=\"categorical\",\n",
    "    batch_size=batch_size,\n",
    "    #save_to_dir = \"preview\",\n",
    "    #save_prefix = \"preview\",\n",
    "    #save_format = \"png\"\n",
    ")\n",
    "\n",
    "test_datagen = ImageDataGenerator(rescale=1./255)\n",
    "\n",
    "validation_generator = test_datagen.flow_from_dataframe(\n",
    "    dataframe=validate,\n",
    "    directory=None,\n",
    "    x_col=\"path\",\n",
    "    y_col=\"label\",\n",
    "    target_size=target_size,\n",
    "    color_mode=color_mode,\n",
    "    class_mode=\"categorical\",\n",
    "    batch_size=batch_size,\n",
    ")\n",
    "\n",
    "test_generator = test_datagen.flow_from_dataframe(\n",
    "    dataframe=test,\n",
    "    directory=None,\n",
    "    x_col=\"path\",\n",
    "    y_col=\"label\",\n",
    "    target_size=target_size,\n",
    "    color_mode=color_mode,\n",
    "    class_mode=\"categorical\",\n",
    "    batch_size=batch_size,\n",
    "    shuffle=False\n",
    ")"
   ]
  },
  {
   "cell_type": "code",
   "execution_count": 30,
   "metadata": {},
   "outputs": [],
   "source": [
    "from tensorflow.keras.models import Sequential\n",
    "from tensorflow.keras.layers import Conv2D, MaxPooling2D, BatchNormalization, Dropout\n",
    "from tensorflow.keras.layers import Activation, Dropout, Flatten, Dense"
   ]
  },
  {
   "cell_type": "code",
   "execution_count": 31,
   "metadata": {},
   "outputs": [],
   "source": [
    "#SHALLOW CNN\n",
    "def create_cnn( d=0, bn=False, pad='valid', n_l=64, L=1):\n",
    "    \n",
    "    model = Sequential()\n",
    "    \n",
    "    model.add(Conv2D(32, (3, 3), padding=pad, input_shape=(100, 100, 3)))\n",
    "    model.add(Activation('relu'))\n",
    "    model.add(MaxPooling2D(pool_size=(2, 2)))\n",
    "    if bn==True:\n",
    "        model.add(BatchNormalization())\n",
    "\n",
    "    model.add(Conv2D(64, (3, 3), padding=pad))\n",
    "    model.add(Activation('relu'))\n",
    "    model.add(MaxPooling2D(pool_size=(2, 2)))\n",
    "    if bn==True:\n",
    "        model.add(BatchNormalization())\n",
    "    \n",
    "    model.add(Conv2D(64, (3, 3), padding=pad))\n",
    "    model.add(Activation('relu'))\n",
    "    model.add(MaxPooling2D(pool_size=(2, 2)))\n",
    "    if bn==True:\n",
    "        model.add(BatchNormalization())\n",
    "\n",
    "    model.add(Flatten())\n",
    "    \n",
    "    for i in range(L):    \n",
    "        model.add(Dense(n_l))\n",
    "        model.add(Activation('relu'))\n",
    "        model.add(Dropout(d))\n",
    "        if bn==True:\n",
    "            model.add(BatchNormalization())\n",
    "\n",
    "    model.add(Dense(26))\n",
    "    model.add(Activation('softmax'))\n",
    "\n",
    "    model.compile(\n",
    "                  loss='categorical_crossentropy', #becase this is not a multilabel dataset.\n",
    "                  optimizer=tf.keras.optimizers.Adam(learning_rate=0.001, amsgrad=True),\n",
    "                  metrics=['acc','categorical_accuracy']\n",
    "                )\n",
    "    \n",
    "    #model.summary()\n",
    "    \n",
    "    return model"
   ]
  },
  {
   "cell_type": "code",
   "execution_count": 32,
   "metadata": {},
   "outputs": [],
   "source": [
    "from tensorflow.keras.callbacks import EarlyStopping\n",
    "\n",
    "early_stop = EarlyStopping(monitor = 'val_acc', mode = 'max', patience=25, restore_best_weights=True)"
   ]
  },
  {
   "cell_type": "code",
   "execution_count": 33,
   "metadata": {},
   "outputs": [],
   "source": [
    "def plot_history(model_hist):\n",
    "    plt.plot(model_hist.history['loss'], label = 'loss')\n",
    "    plt.plot(model_hist.history['val_loss'], label = 'val_loss')\n",
    "    plt.legend()\n",
    "    plt.show()\n",
    "    \n",
    "    plt.plot(model_hist.history['acc'], label = 'acc')\n",
    "    plt.plot(model_hist.history['val_acc'], label = 'val_acc')\n",
    "    plt.legend()\n",
    "    plt.show()"
   ]
  },
  {
   "cell_type": "code",
   "execution_count": 34,
   "metadata": {},
   "outputs": [
    {
     "data": {
      "text/plain": [
       "{'d': [0],\n",
       " 'bn': [False, True],\n",
       " 'pad': ['valid', 'same'],\n",
       " 'n_l': [64, 128],\n",
       " 'L': [1, 2, 3],\n",
       " 'epochs': [150]}"
      ]
     },
     "execution_count": 34,
     "metadata": {},
     "output_type": "execute_result"
    }
   ],
   "source": [
    "d=[ 0 ]\n",
    "bn=[False, True]\n",
    "pad=['valid', 'same']\n",
    "n_l=[64, 128]\n",
    "L=[1, 2, 3]\n",
    "epochs=[150]\n",
    "\n",
    "param_grid = dict( d=d, bn=bn, pad=pad, n_l=n_l, L=L, epochs=epochs)\n",
    "\n",
    "param_grid"
   ]
  },
  {
   "cell_type": "code",
   "execution_count": null,
   "metadata": {},
   "outputs": [],
   "source": [
    "for d in param_grid['d']:\n",
    "    for bn in param_grid['bn']:\n",
    "        for pad in param_grid['pad']:\n",
    "            for n_l in param_grid['n_l']:\n",
    "                for L in param_grid['L']:\n",
    "                    for epochs in param_grid['epochs']:\n",
    "                                 \n",
    "                        print('---------', d, bn, pad, n_l, L, epochs, '---------')\n",
    "                                 \n",
    "                        model = create_cnn( d=d, bn=bn, pad=pad, n_l=n_l, L=L)\n",
    "                                 \n",
    "                        train_generator.reset()\n",
    "                        validation_generator.reset()\n",
    "                                 \n",
    "                        model_hist = model.fit( train_generator, \n",
    "                                      steps_per_epoch=train.shape[0] // batch_size, \n",
    "                                      epochs=epochs,\n",
    "                                      validation_data=validation_generator, \n",
    "                                      validation_steps=validate.shape[0] // batch_size,\n",
    "                                      callbacks=[early_stop],\n",
    "                                      verbose=0\n",
    "                        )\n",
    "                                 \n",
    "                        plot_history(model_hist)\n",
    "                                 \n",
    "                        test_generator.reset()\n",
    "                        test_acc = model.evaluate(test_generator)\n",
    "                                 \n",
    "                                 "
   ]
  },
  {
   "cell_type": "code",
   "execution_count": null,
   "metadata": {},
   "outputs": [],
   "source": []
  }
 ],
 "metadata": {
  "kernelspec": {
   "display_name": "Python 3",
   "language": "python",
   "name": "python3"
  },
  "language_info": {
   "codemirror_mode": {
    "name": "ipython",
    "version": 3
   },
   "file_extension": ".py",
   "mimetype": "text/x-python",
   "name": "python",
   "nbconvert_exporter": "python",
   "pygments_lexer": "ipython3",
   "version": "3.8.10"
  }
 },
 "nbformat": 4,
 "nbformat_minor": 4
}
